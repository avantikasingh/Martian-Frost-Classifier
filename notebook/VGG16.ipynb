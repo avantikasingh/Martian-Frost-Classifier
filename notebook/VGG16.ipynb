{
  "cells": [
    {
      "cell_type": "code",
      "execution_count": 5,
      "metadata": {
        "colab": {
          "base_uri": "https://localhost:8080/"
        },
        "id": "rX66dk5euhTq",
        "outputId": "153e748b-efa9-4755-c96f-52e02e29474b"
      },
      "outputs": [
        {
          "name": "stdout",
          "output_type": "stream",
          "text": [
            "Mounted at /content/drive\n"
          ]
        }
      ],
      "source": [
        "from google.colab import drive\n",
        "drive.mount('/content/drive')"
      ]
    },
    {
      "cell_type": "code",
      "execution_count": 2,
      "metadata": {
        "colab": {
          "base_uri": "https://localhost:8080/"
        },
        "id": "mW6eEMR7urwZ",
        "outputId": "a644cb24-6994-4713-bb1b-0374cf3ade1a"
      },
      "outputs": [
        {
          "name": "stdout",
          "output_type": "stream",
          "text": [
            "data\t  extract_data\tMLDS.ipynb\t\ttrain_source_images.txt\n",
            "data.zip  __MACOSX\ttest_source_images.txt\tval_source_images.txt\n"
          ]
        }
      ],
      "source": [
        "!ls \"/content/drive/My Drive/MLDS_Final_Project\""
      ]
    },
    {
      "cell_type": "code",
      "execution_count": null,
      "metadata": {
        "colab": {
          "base_uri": "https://localhost:8080/"
        },
        "id": "D3n9vvdt1Lto",
        "outputId": "279bfb88-21f7-415b-90eb-9f52b9be4096"
      },
      "outputs": [
        {
          "name": "stdout",
          "output_type": "stream",
          "text": [
            "/content/drive/My Drive/MLDS_Final_Project\n"
          ]
        }
      ],
      "source": [
        "%cd /content/drive/My Drive/MLDS_Final_Project"
      ]
    },
    {
      "cell_type": "code",
      "execution_count": null,
      "metadata": {
        "id": "Z83TNtzE1VLT"
      },
      "outputs": [],
      "source": [
        "!unzip data.zip -d extract_data"
      ]
    },
    {
      "cell_type": "code",
      "execution_count": 1,
      "metadata": {
        "id": "_5gfOymO0sSX"
      },
      "outputs": [],
      "source": [
        "import os\n",
        "import os.path as op\n",
        "import json\n",
        "from pathlib import Path\n",
        "import shutil\n",
        "import logging\n",
        "import numpy as np\n",
        "from tqdm import tqdm\n",
        "from sklearn.metrics import classification_report\n",
        "import random\n",
        "import tensorflow as tf\n",
        "from PIL import Image\n",
        "import tensorflow as tf\n",
        "from tensorflow.keras import layers, models, optimizers, regularizers\n",
        "from tensorflow.keras.callbacks import EarlyStopping, Callback, ModelCheckpoint\n",
        "from tensorflow.keras.layers.experimental import preprocessing\n",
        "from keras.models import load_model\n",
        "import matplotlib.pyplot as plt\n",
        "from tensorflow.keras.applications import EfficientNetB0, ResNet50, VGG16\n",
        "from tensorflow.keras.callbacks import EarlyStopping, ModelCheckpoint"
      ]
    },
    {
      "cell_type": "markdown",
      "metadata": {
        "id": "_U5pOkwjuU-1"
      },
      "source": [
        "### 1. (a) Data set import"
      ]
    },
    {
      "cell_type": "code",
      "execution_count": 7,
      "metadata": {
        "id": "VsSaTQx6uU-2"
      },
      "outputs": [],
      "source": [
        "#path = '/content/drive/My Drive/MLDS_Final_Project/extract_data/data'\n",
        "path = '../data'"
      ]
    },
    {
      "cell_type": "code",
      "execution_count": 8,
      "metadata": {
        "id": "H2BjahYW0sSZ"
      },
      "outputs": [],
      "source": [
        "# Logging configuration\n",
        "logging.basicConfig(level=logging.INFO,\n",
        "                    datefmt='%H:%M:%S',\n",
        "                    format='%(asctime)s | %(levelname)-5s | %(module)-15s | %(message)s')\n",
        "\n",
        "IMAGE_SIZE = (299, 299)  # All images contained in this dataset are 299x299 (originally, to match Inception v3 input size)\n",
        "SEED = 17\n",
        "\n",
        "# Head directory containing all image subframes. Update with the relative path of your data directory\n",
        "data_head_dir = Path(path)\n",
        "\n",
        "# Find all subframe directories\n",
        "subdirs = [Path(subdir.stem) for subdir in data_head_dir.iterdir() if subdir.is_dir()]\n",
        "src_image_ids = ['_'.join(a_path.name.split('_')[:3]) for a_path in subdirs]"
      ]
    },
    {
      "cell_type": "code",
      "execution_count": 9,
      "metadata": {
        "id": "1XdSG3010sSa"
      },
      "outputs": [],
      "source": [
        "# Load train/val/test subframe IDs\n",
        "def load_text_ids(file_path):\n",
        "    \"\"\"Simple helper to load all lines from a text file\"\"\"\n",
        "    with open(file_path, 'r') as f:\n",
        "        lines = [line.strip() for line in f.readlines()]\n",
        "    return lines\n",
        "\n",
        "# Load the subframe names for the three data subsets\n",
        "train_ids = load_text_ids('../train_source_images.txt')\n",
        "validate_ids = load_text_ids('../val_source_images.txt')\n",
        "test_ids = load_text_ids('../test_source_images.txt')\n",
        "\n",
        "# Generate a list containing the dataset split for the matching subdirectory names\n",
        "subdir_splits = []\n",
        "for src_id in src_image_ids:\n",
        "    if src_id in train_ids:\n",
        "        subdir_splits.append('train')\n",
        "    elif src_id in validate_ids:\n",
        "        subdir_splits.append('validate')\n",
        "    elif(src_id in test_ids):\n",
        "        subdir_splits.append('test')\n",
        "    else:\n",
        "        logging.warning(f'{src_id}: Did not find designated split in train/validate/test list.')\n",
        "        subdir_splits.append(None)"
      ]
    },
    {
      "cell_type": "code",
      "execution_count": 10,
      "metadata": {
        "colab": {
          "base_uri": "https://localhost:8080/"
        },
        "id": "4PCDLaOguU-4",
        "outputId": "694ebc23-f43a-46ef-8275-cc83b6cd38cd"
      },
      "outputs": [
        {
          "data": {
            "text/plain": [
              "414"
            ]
          },
          "execution_count": 10,
          "metadata": {},
          "output_type": "execute_result"
        }
      ],
      "source": [
        "len(subdir_splits)"
      ]
    },
    {
      "cell_type": "markdown",
      "metadata": {
        "id": "6h6KlTOf0sSa"
      },
      "source": [
        "### 1. (b) Loading and pre processing the data"
      ]
    },
    {
      "cell_type": "code",
      "execution_count": 11,
      "metadata": {
        "id": "BMhhhPqw0sSb"
      },
      "outputs": [],
      "source": [
        "\n",
        "\n",
        "def load_and_preprocess(img_loc, label):\n",
        "\n",
        "    def _inner_function(img_loc, label):\n",
        "\n",
        "        # Convert tensor to native type\n",
        "        img_loc_str = img_loc.numpy().decode('utf-8')\n",
        "        label_str = label.numpy().decode('utf-8')\n",
        "\n",
        "        img = Image.open(img_loc_str).convert('RGB')\n",
        "\n",
        "\n",
        "        return img, 1 if label_str=='frost' else 0\n",
        "\n",
        "    # Wrap the Python function\n",
        "    X, y = tf.py_function(_inner_function, [img_loc, label], [tf.float32, tf.int64])\n",
        "    X.set_shape((299, 299, 3))\n",
        "    y.set_shape(())\n",
        "\n",
        "    return X, y\n",
        "\n",
        "def load_subdir_data(dir_path, image_size, seed=None):\n",
        "\n",
        "    \"\"\"Helper to create a TF dataset from each image subdirectory\"\"\"\n",
        "\n",
        "    # Grab only the classes that (1) we want to keep and (2) exist in this directory\n",
        "    tile_dir = dir_path / Path('tiles')\n",
        "    label_dir = dir_path /Path('labels')\n",
        "\n",
        "    loc_list = []\n",
        "\n",
        "    for folder in os.listdir(tile_dir):\n",
        "        if os.path.isdir(os.path.join(tile_dir, folder)):\n",
        "            for file in os.listdir(os.path.join(tile_dir, folder)):\n",
        "                if file.endswith(\".png\"):\n",
        "                    loc_list.append((os.path.join(os.path.join(tile_dir, folder), file), folder))\n",
        "\n",
        "    return loc_list\n",
        "\n",
        "# Loop over all subframes, loading each into a list\n",
        "tf_data_train, tf_data_test, tf_data_val = [], [], []\n",
        "tf_dataset_train, tf_dataset_test, tf_dataset_val = [], [], []\n",
        "\n",
        "# Update the batch and buffer size as per your model requirements\n",
        "buffer_size = 64\n",
        "batch_size = 32\n",
        "\n",
        "for subdir, split in zip(subdirs, subdir_splits):\n",
        "    full_path = data_head_dir / subdir\n",
        "    if split=='validate':\n",
        "        tf_data_val.extend(load_subdir_data(full_path, IMAGE_SIZE, SEED))\n",
        "    elif split=='train':\n",
        "        tf_data_train.extend(load_subdir_data(full_path, IMAGE_SIZE, SEED))\n",
        "    elif split=='test':\n",
        "        tf_data_test.extend(load_subdir_data(full_path, IMAGE_SIZE, SEED))\n",
        "\n",
        "random.shuffle(tf_data_train)\n",
        "img_list, label_list = zip(*tf_data_train)\n",
        "img_list_t = tf.convert_to_tensor(img_list)\n",
        "lb_list_t = tf.convert_to_tensor(label_list)\n",
        "\n",
        "tf_dataset_train = tf.data.Dataset.from_tensor_slices((img_list_t, lb_list_t))\n",
        "tf_dataset_train = tf_dataset_train.map(load_and_preprocess, num_parallel_calls=tf.data.experimental.AUTOTUNE)\n",
        "tf_dataset_train = tf_dataset_train.shuffle(buffer_size=buffer_size).batch(batch_size)\n",
        "\n",
        "random.shuffle(tf_data_val)\n",
        "img_list, label_list = zip(*tf_data_val)\n",
        "img_list_t = tf.convert_to_tensor(img_list)\n",
        "lb_list_t = tf.convert_to_tensor(label_list)\n",
        "\n",
        "tf_dataset_val = tf.data.Dataset.from_tensor_slices((img_list_t, lb_list_t))\n",
        "tf_dataset_val = tf_dataset_val.map(load_and_preprocess, num_parallel_calls=tf.data.experimental.AUTOTUNE)\n",
        "tf_dataset_val = tf_dataset_val.shuffle(buffer_size=buffer_size).batch(batch_size)\n",
        "\n",
        "random.shuffle(tf_data_test)\n",
        "img_list, label_list = zip(*tf_data_test)\n",
        "img_list_t = tf.convert_to_tensor(img_list)\n",
        "lb_list_t = tf.convert_to_tensor(label_list)\n",
        "\n",
        "tf_dataset_test = tf.data.Dataset.from_tensor_slices((img_list_t, lb_list_t))\n",
        "tf_dataset_test = tf_dataset_test.map(load_and_preprocess, num_parallel_calls=tf.data.experimental.AUTOTUNE)\n",
        "tf_dataset_test = tf_dataset_test.shuffle(buffer_size=buffer_size).batch(batch_size)"
      ]
    },
    {
      "attachments": {},
      "cell_type": "markdown",
      "metadata": {},
      "source": [
        "#### Transfer Learning: VGG16"
      ]
    },
    {
      "cell_type": "code",
      "execution_count": 13,
      "metadata": {
        "id": "kOo8YhLyK9ev"
      },
      "outputs": [],
      "source": [
        "# Model Hyperparameters\n",
        "dense_units = 128\n",
        "dropout_rate = 0.3\n",
        "l2_regularization = 0.001\n",
        "batch_size = 8\n",
        "epochs = 10"
      ]
    },
    {
      "cell_type": "code",
      "execution_count": 14,
      "metadata": {
        "id": "T74_U5J1K-N-"
      },
      "outputs": [],
      "source": [
        "# Function to build and compile the transfer learning model\n",
        "def build_transfer_model(base_model, input_shape):\n",
        "    base_model.trainable = False\n",
        "    model = models.Sequential()\n",
        "    model.add(base_model)\n",
        "    model.add(layers.Flatten())\n",
        "    model.add(layers.Dense(dense_units, activation='relu', kernel_regularizer=regularizers.l2(l2_regularization), batch_size=batch_size))\n",
        "    model.add(layers.BatchNormalization())\n",
        "    model.add(layers.Dropout(dropout_rate))\n",
        "    model.add(layers.Dense(2, activation='softmax', batch_size=batch_size))\n",
        "    model.compile(optimizer='adam', loss='sparse_categorical_crossentropy', metrics=['accuracy'])\n",
        "    return model"
      ]
    },
    {
      "cell_type": "code",
      "execution_count": 15,
      "metadata": {
        "id": "nZWL_DEtK_5N"
      },
      "outputs": [],
      "source": [
        "# Data augmentation for training data\n",
        "data_augmentation = tf.keras.Sequential([\n",
        "    preprocessing.Rescaling(scale=1./255),\n",
        "    preprocessing.RandomCrop(299, 299),\n",
        "    preprocessing.RandomZoom(0.2),\n",
        "    preprocessing.RandomFlip(\"horizontal\"),\n",
        "    preprocessing.RandomContrast(0.2),\n",
        "    preprocessing.RandomTranslation(0.2, 0.2),\n",
        "])\n",
        "\n",
        "# Early stopping\n",
        "early_stopping = EarlyStopping(monitor='val_loss', patience=2, restore_best_weights=True)"
      ]
    },
    {
      "cell_type": "code",
      "execution_count": 16,
      "metadata": {
        "colab": {
          "base_uri": "https://localhost:8080/"
        },
        "id": "k67KdoRTLDml",
        "outputId": "35b1fcce-5742-404e-fe78-f4e1069568f2"
      },
      "outputs": [
        {
          "name": "stdout",
          "output_type": "stream",
          "text": [
            "Downloading data from https://storage.googleapis.com/tensorflow/keras-applications/vgg16/vgg16_weights_tf_dim_ordering_tf_kernels_notop.h5\n",
            "58889256/58889256 [==============================] - 2s 0us/step\n",
            "Epoch 1/10\n",
            "661/661 [==============================] - 1787s 3s/step - loss: 0.4388 - accuracy: 0.8609 - val_loss: 18.0184 - val_accuracy: 0.4639\n"
          ]
        },
        {
          "name": "stderr",
          "output_type": "stream",
          "text": [
            "/usr/local/lib/python3.10/dist-packages/keras/src/engine/training.py:3079: UserWarning: You are saving your model as an HDF5 file via `model.save()`. This file format is considered legacy. We recommend using instead the native Keras format, e.g. `model.save('my_model.keras')`.\n",
            "  saving_api.save_model(\n"
          ]
        },
        {
          "name": "stdout",
          "output_type": "stream",
          "text": [
            "Epoch 2/10\n",
            "661/661 [==============================] - 579s 876ms/step - loss: 0.3769 - accuracy: 0.8761 - val_loss: 12.0254 - val_accuracy: 0.4988\n",
            "Epoch 3/10\n",
            "661/661 [==============================] - 590s 892ms/step - loss: 0.3630 - accuracy: 0.8790 - val_loss: 11.0280 - val_accuracy: 0.5403\n",
            "Epoch 4/10\n",
            "661/661 [==============================] - 584s 883ms/step - loss: 0.3500 - accuracy: 0.8865 - val_loss: 8.8148 - val_accuracy: 0.5854\n",
            "Epoch 5/10\n",
            "661/661 [==============================] - 579s 876ms/step - loss: 0.3528 - accuracy: 0.8791 - val_loss: 9.4294 - val_accuracy: 0.5878\n",
            "Epoch 6/10\n",
            "661/661 [==============================] - 579s 876ms/step - loss: 0.3499 - accuracy: 0.8831 - val_loss: 13.9615 - val_accuracy: 0.5517\n"
          ]
        }
      ],
      "source": [
        "# VGG16\n",
        "vgg16_model = VGG16(include_top=False, weights='imagenet', input_shape=(299, 299, 3))\n",
        "\n",
        "# freeze all layers except the last one in each model\n",
        "for layer in vgg16_model.layers[:-1]:\n",
        "    layer.trainable = False\n",
        "\n",
        "vgg16_model = build_transfer_model(vgg16_model, (299, 299, 3))\n",
        "\n",
        "# ModelCheckpoint callback for VGG16\n",
        "vgg16_checkpoint = ModelCheckpoint('vgg16_best_model.h5', monitor='val_loss', save_best_only=True)\n",
        "\n",
        "# Train the model\n",
        "tf_dataset_train_vgg16 = tf_dataset_train.map(lambda x, y: (data_augmentation(x, training=True), y))\n",
        "history_vgg16 = vgg16_model.fit(tf_dataset_train_vgg16, epochs=epochs, validation_data=tf_dataset_val, callbacks=[early_stopping, vgg16_checkpoint])\n",
        "\n"
      ]
    },
    {
      "cell_type": "code",
      "execution_count": 17,
      "metadata": {
        "id": "aHaqxHDFLEOD"
      },
      "outputs": [],
      "source": [
        "vgg16_model.save('VGG16.keras')"
      ]
    },
    {
      "cell_type": "code",
      "execution_count": 18,
      "metadata": {
        "id": "DzpcRNJzLIGj"
      },
      "outputs": [],
      "source": [
        "# Load the best model for EfficientNetB0\n",
        "best_vgg16_model = models.load_model('vgg16_best_model.h5')"
      ]
    },
    {
      "cell_type": "code",
      "execution_count": 19,
      "metadata": {
        "colab": {
          "base_uri": "https://localhost:8080/",
          "height": 449
        },
        "id": "v9xu3nclLItg",
        "outputId": "e8daf9ed-a43c-40e8-b91b-34c1be055123"
      },
      "outputs": [
        {
          "data": {
            "image/png": "[encoded data removed]",
            "text/plain": [
              "<Figure size 640x480 with 1 Axes>"
            ]
          },
          "metadata": {},
          "output_type": "display_data"
        }
      ],
      "source": [
        "# Plot training and validation errors vs. epochs\n",
        "plt.plot(history_vgg16.history['loss'], label='VGG16 Training Error')\n",
        "plt.plot(history_vgg16.history['val_loss'], label='VGG16 Validation Error')\n",
        "# Show legend and plot\n",
        "plt.xlabel('Epochs')\n",
        "plt.ylabel('Error')\n",
        "plt.legend()\n",
        "plt.show()\n",
        "\n"
      ]
    },
    {
      "cell_type": "code",
      "execution_count": 20,
      "metadata": {
        "colab": {
          "base_uri": "https://localhost:8080/"
        },
        "id": "peID_II9LLH8",
        "outputId": "8e810b45-afd4-4009-c975-f4996ca153af"
      },
      "outputs": [
        {
          "name": "stdout",
          "output_type": "stream",
          "text": [
            "263/263 [==============================] - 362s 1s/step - loss: 9.1503 - accuracy: 0.6497\n",
            "263/263 [==============================] - 38s 144ms/step\n",
            "VGG16 Classification Report:\n",
            "              precision    recall  f1-score   support\n",
            "\n",
            "           0       0.42      0.50      0.46      3509\n",
            "           1       0.59      0.50      0.54      4896\n",
            "\n",
            "    accuracy                           0.50      8405\n",
            "   macro avg       0.50      0.50      0.50      8405\n",
            "weighted avg       0.52      0.50      0.51      8405\n",
            "\n"
          ]
        }
      ],
      "source": [
        "# Evaluate and print classification report for VGG16\n",
        "test_loss_vgg16, test_accuracy_vgg16 = vgg16_model.evaluate(tf_dataset_test)\n",
        "predictions_vgg16 = vgg16_model.predict(tf_dataset_test)\n",
        "predicted_labels_vgg16 = tf.argmax(predictions_vgg16, axis=1)\n",
        "true_labels_vgg16 = tf.concat([y for x, y in tf_dataset_test], axis=0)\n",
        "print(\"VGG16 Classification Report:\")\n",
        "print(classification_report(true_labels_vgg16, predicted_labels_vgg16))"
      ]
    },
    {
      "attachments": {},
      "cell_type": "markdown",
      "metadata": {},
      "source": [
        "### MODEL PERFORMANCE"
      ]
    },
    {
      "attachments": {},
      "cell_type": "markdown",
      "metadata": {},
      "source": [
        "                precision    recall  f1-score   support\n",
        "\n",
        "           0       0.42      0.50      0.46      3509\n",
        "           1       0.59      0.50      0.54      4896\n",
        "\n",
        "    accuracy                           0.50      8405\n",
        "    macro avg      0.50      0.50      0.50      8405\n",
        "    weighted avg   0.52      0.50      0.51      8405   "
      ]
    },
    {
      "attachments": {},
      "cell_type": "markdown",
      "metadata": {},
      "source": [
        "## SUMMARY\n",
        "**CNN Model:**\n",
        "\n",
        "  > Precision: 0.76\n",
        "  > Recall: 0.76\n",
        "  > F1-score: 0.75\n",
        "  > Accuracy: 0.76\n",
        "\n",
        "**EfficientNetB0 Transfer Learning:**\n",
        "\n",
        "  >Precision: 0.57\n",
        "  Recall: 0.65\n",
        "  F1-score: 0.53\n",
        "  Accuracy: 0.65\n",
        "\n",
        "**ResNet50 Transfer Learning:**\n",
        "\n",
        "  >Precision: 0.43\n",
        "  Recall: 0.66\n",
        "  F1-score: 0.52\n",
        "  Accuracy: 0.66\n",
        "\n",
        "**VGG16 Transfer Learning:**\n",
        "\n",
        "  >Precision: 0.52\n",
        "  Recall: 0.50\n",
        "  F1-score: 0.51\n",
        "  Accuracy: 0.50\n",
        "\n",
        "\n",
        "*In summary, the CNN model performs the best overall with the highest precision, recall, and F1-score, resulting in the highest accuracy. The EfficientNetB0 Transfer Learning model has a lower performance compared to the CNN model, and ResNet50 Transfer Learning and VGG16 Transfer Learning models have the lowest accuracy among the models listed.*\n"
      ]
    }
  ],
  "metadata": {
    "accelerator": "GPU",
    "colab": {
      "gpuType": "V100",
      "machine_shape": "hm",
      "provenance": []
    },
    "kernelspec": {
      "display_name": "Python 3",
      "name": "python3"
    },
    "language_info": {
      "codemirror_mode": {
        "name": "ipython",
        "version": 3
      },
      "file_extension": ".py",
      "mimetype": "text/x-python",
      "name": "python",
      "nbconvert_exporter": "python",
      "pygments_lexer": "ipython3",
      "version": "3.11.5"
    }
  },
  "nbformat": 4,
  "nbformat_minor": 0
}
